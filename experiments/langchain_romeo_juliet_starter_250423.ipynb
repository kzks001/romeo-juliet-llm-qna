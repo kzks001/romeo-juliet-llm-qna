{
 "cells": [
  {
   "cell_type": "code",
   "execution_count": 1,
   "id": "532edd0f-961f-4863-9951-9908d8d7b5c2",
   "metadata": {
    "tags": []
   },
   "outputs": [],
   "source": [
    "# !pip install --upgrade langchain deeplake openai tiktoken pinecone-client ipywidgets"
   ]
  },
  {
   "cell_type": "code",
   "execution_count": 2,
   "id": "cb661bc7-8f99-4dac-853d-6680a8a4878f",
   "metadata": {
    "tags": []
   },
   "outputs": [
    {
     "name": "stderr",
     "output_type": "stream",
     "text": [
      "C:\\Users\\samue\\anaconda3\\envs\\qna-chatgpt-textbook\\lib\\site-packages\\pinecone\\index.py:4: TqdmExperimentalWarning: Using `tqdm.autonotebook.tqdm` in notebook mode. Use `tqdm.tqdm` instead to force console mode (e.g. in jupyter console)\n",
      "  from tqdm.autonotebook import tqdm\n"
     ]
    }
   ],
   "source": [
    "import os\n",
    "from dotenv import load_dotenv\n",
    "\n",
    "dotenv_path = '../secrets.env'\n",
    "load_dotenv(dotenv_path)\n",
    "\n",
    "from langchain.docstore.document import Document\n",
    "from langchain.text_splitter import RecursiveCharacterTextSplitter\n",
    "from langchain.vectorstores import  Pinecone\n",
    "from langchain.embeddings.openai import OpenAIEmbeddings\n",
    "import pinecone\n",
    "from langchain.llms import OpenAI\n",
    "from langchain.chains.question_answering import load_qa_chain"
   ]
  },
  {
   "cell_type": "markdown",
   "id": "f1e4c40b-d789-4209-a64f-8d20058707be",
   "metadata": {},
   "source": [
    "### Load data"
   ]
  },
  {
   "cell_type": "code",
   "execution_count": 3,
   "id": "749b255f-b3a2-4a62-83c6-8818a8a651d9",
   "metadata": {
    "tags": []
   },
   "outputs": [],
   "source": [
    "with open(\"../documents/romeo_and_juliet.txt\", encoding='utf-8') as f:\n",
    "    romeo_and_juliet = f.read()\n",
    "\n",
    "with open(\"../documents/the_great_gatsby.txt\", encoding='utf-8') as f:\n",
    "    the_great_gatsby = f.read()\n",
    "    \n",
    "data = [Document(page_content=romeo_and_juliet), Document(page_content=the_great_gatsby)]"
   ]
  },
  {
   "cell_type": "code",
   "execution_count": 4,
   "id": "2174739e-292b-485a-b579-e04fd02c2e5f",
   "metadata": {
    "tags": []
   },
   "outputs": [
    {
     "name": "stdout",
     "output_type": "stream",
     "text": [
      "You have 2 document(s) in your data\n",
      "There are 413047 characters in your document\n"
     ]
    }
   ],
   "source": [
    "print (f'You have {len(data)} document(s) in your data')\n",
    "\n",
    "length = 0\n",
    "for i in range(len(data)):\n",
    "    length += len(data[i].page_content)\n",
    "print (f'There are {length} characters in your document')"
   ]
  },
  {
   "cell_type": "markdown",
   "id": "0f5bc786-e045-46fd-8020-c643e6b12e02",
   "metadata": {
    "tags": []
   },
   "source": [
    "### Chunk up data"
   ]
  },
  {
   "cell_type": "code",
   "execution_count": 5,
   "id": "985a2e2d-08c7-4b5c-8a8c-dba4ccc674a1",
   "metadata": {
    "tags": []
   },
   "outputs": [],
   "source": [
    "text_splitter = RecursiveCharacterTextSplitter(chunk_size=1000, chunk_overlap=0)\n",
    "texts = text_splitter.split_documents(data)"
   ]
  },
  {
   "cell_type": "code",
   "execution_count": 6,
   "id": "ad5a936b-6cd4-4cc0-843c-b7fd66009c29",
   "metadata": {
    "tags": []
   },
   "outputs": [
    {
     "name": "stdout",
     "output_type": "stream",
     "text": [
      "Now you have 507 documents\n"
     ]
    }
   ],
   "source": [
    "print (f'Now you have {len(texts)} documents')"
   ]
  },
  {
   "cell_type": "markdown",
   "id": "7e2904b4-7fa3-48b2-80a9-3b842a78bf9b",
   "metadata": {},
   "source": [
    "### Create embedding of the documents"
   ]
  },
  {
   "cell_type": "code",
   "execution_count": 7,
   "id": "62cd38d2-d5b6-47f0-8165-b0a721b463af",
   "metadata": {
    "tags": []
   },
   "outputs": [],
   "source": [
    "embeddings = OpenAIEmbeddings()"
   ]
  },
  {
   "cell_type": "code",
   "execution_count": 8,
   "id": "283b04d1-24e9-4027-8797-0e0d04821218",
   "metadata": {
    "tags": []
   },
   "outputs": [],
   "source": [
    "pinecone.init(\n",
    "    api_key=os.environ.get(\"PINECONE_API_KEY\"),  # find at app.pinecone.io\n",
    "    environment=os.environ.get(\"PINECONE_API_ENV\")  # next to api key in console\n",
    ")\n",
    "index_name = \"langchain\""
   ]
  },
  {
   "cell_type": "code",
   "execution_count": 9,
   "id": "6060306e-03ea-4c8c-a91c-a576840f1ffe",
   "metadata": {
    "tags": []
   },
   "outputs": [],
   "source": [
    "# docsearch = Pinecone.from_texts([t.page_content for t in texts], embeddings, index_name=index_name)\n",
    "docsearch = Pinecone.from_existing_index(index_name=index_name, embeddings)"
   ]
  },
  {
   "cell_type": "code",
   "execution_count": 10,
   "id": "30328f31-2015-4483-a5d1-27718ffff32f",
   "metadata": {
    "tags": []
   },
   "outputs": [],
   "source": [
    "query = \"How did Juliet die?\"\n",
    "docs = docsearch.similarity_search(query, include_metadata=True)"
   ]
  },
  {
   "cell_type": "code",
   "execution_count": 11,
   "id": "df38c420-4f5b-40ea-a0f8-1b5de3e991e1",
   "metadata": {
    "tags": []
   },
   "outputs": [
    {
     "data": {
      "text/plain": [
       "[Document(page_content='NURSE.\\nAh sir, ah sir, death’s the end of all.\\n\\nROMEO.\\nSpakest thou of Juliet? How is it with her?\\nDoth not she think me an old murderer,\\nNow I have stain’d the childhood of our joy\\nWith blood remov’d but little from her own?\\nWhere is she? And how doth she? And what says\\nMy conceal’d lady to our cancell’d love?\\n\\nNURSE.\\nO, she says nothing, sir, but weeps and weeps;\\nAnd now falls on her bed, and then starts up,\\nAnd Tybalt calls, and then on Romeo cries,\\nAnd then down falls again.\\n\\nROMEO.\\nAs if that name,\\nShot from the deadly level of a gun,\\nDid murder her, as that name’s cursed hand\\nMurder’d her kinsman. O, tell me, Friar, tell me,\\nIn what vile part of this anatomy\\nDoth my name lodge? Tell me, that I may sack\\nThe hateful mansion.\\n\\n [_Drawing his sword._]', metadata={}),\n",
       " Document(page_content='FRIAR LAWRENCE.\\nI will be brief, for my short date of breath\\nIs not so long as is a tedious tale.\\nRomeo, there dead, was husband to that Juliet,\\nAnd she, there dead, that Romeo’s faithful wife.\\nI married them; and their stol’n marriage day\\nWas Tybalt’s doomsday, whose untimely death\\nBanish’d the new-made bridegroom from this city;\\nFor whom, and not for Tybalt, Juliet pin’d.\\nYou, to remove that siege of grief from her,\\nBetroth’d, and would have married her perforce\\nTo County Paris. Then comes she to me,\\nAnd with wild looks, bid me devise some means\\nTo rid her from this second marriage,\\nOr in my cell there would she kill herself.\\nThen gave I her, so tutored by my art,\\nA sleeping potion, which so took effect\\nAs I intended, for it wrought on her\\nThe form of death. Meantime I writ to Romeo\\nThat he should hither come as this dire night\\nTo help to take her from her borrow’d grave,\\nBeing the time the potion’s force should cease.\\nBut he which bore my letter, Friar John,', metadata={}),\n",
       " Document(page_content='Enter Capulet.\\n\\nCAPULET.\\nFor shame, bring Juliet forth, her lord is come.\\n\\nNURSE.\\nShe’s dead, deceas’d, she’s dead; alack the day!\\n\\nLADY CAPULET.\\nAlack the day, she’s dead, she’s dead, she’s dead!\\n\\nCAPULET.\\nHa! Let me see her. Out alas! She’s cold,\\nHer blood is settled and her joints are stiff.\\nLife and these lips have long been separated.\\nDeath lies on her like an untimely frost\\nUpon the sweetest flower of all the field.\\n\\nNURSE.\\nO lamentable day!\\n\\nLADY CAPULET.\\nO woful time!\\n\\nCAPULET.\\nDeath, that hath ta’en her hence to make me wail,\\nTies up my tongue and will not let me speak.\\n\\n Enter Friar Lawrence and Paris with Musicians.\\n\\nFRIAR LAWRENCE.\\nCome, is the bride ready to go to church?\\n\\nCAPULET.\\nReady to go, but never to return.\\nO son, the night before thy wedding day\\nHath death lain with thy bride. There she lies,\\nFlower as she was, deflowered by him.\\nDeath is my son-in-law, death is my heir;\\nMy daughter he hath wedded. I will die.\\nAnd leave him all; life, living, all is death’s.', metadata={}),\n",
       " Document(page_content='NURSE.\\nI saw the wound, I saw it with mine eyes,\\nGod save the mark!—here on his manly breast.\\nA piteous corse, a bloody piteous corse;\\nPale, pale as ashes, all bedaub’d in blood,\\nAll in gore-blood. I swounded at the sight.\\n\\nJULIET.\\nO, break, my heart. Poor bankrout, break at once.\\nTo prison, eyes; ne’er look on liberty.\\nVile earth to earth resign; end motion here,\\nAnd thou and Romeo press one heavy bier.\\n\\nNURSE.\\nO Tybalt, Tybalt, the best friend I had.\\nO courteous Tybalt, honest gentleman!\\nThat ever I should live to see thee dead.\\n\\nJULIET.\\nWhat storm is this that blows so contrary?\\nIs Romeo slaughter’d and is Tybalt dead?\\nMy dearest cousin, and my dearer lord?\\nThen dreadful trumpet sound the general doom,\\nFor who is living, if those two are gone?\\n\\nNURSE.\\nTybalt is gone, and Romeo banished,\\nRomeo that kill’d him, he is banished.\\n\\nJULIET.\\nO God! Did Romeo’s hand shed Tybalt’s blood?\\n\\nNURSE.\\nIt did, it did; alas the day, it did.', metadata={})]"
      ]
     },
     "execution_count": 11,
     "metadata": {},
     "output_type": "execute_result"
    }
   ],
   "source": [
    "docs"
   ]
  },
  {
   "cell_type": "markdown",
   "id": "e55f6f85-02ef-4d76-a492-d21260f8202b",
   "metadata": {},
   "source": [
    "### Query docs (from pinecone) to get answer"
   ]
  },
  {
   "cell_type": "code",
   "execution_count": 12,
   "id": "f1d2aa6c-4456-4768-9065-ef0689655a7b",
   "metadata": {
    "tags": []
   },
   "outputs": [],
   "source": [
    "llm = OpenAI(temperature=0, openai_api_key=os.environ.get(\"OPENAI_API_KEY\"))\n",
    "chain = load_qa_chain(llm, chain_type=\"stuff\")"
   ]
  },
  {
   "cell_type": "code",
   "execution_count": 13,
   "id": "39e1a8f8-a197-4da6-97c5-5f1cc462693e",
   "metadata": {
    "tags": []
   },
   "outputs": [
    {
     "data": {
      "text/plain": [
       "' Juliet died after taking a sleeping potion given to her by Friar Lawrence in order to avoid marrying Paris.'"
      ]
     },
     "execution_count": 13,
     "metadata": {},
     "output_type": "execute_result"
    }
   ],
   "source": [
    "query = \"How did Juliet die?\"\n",
    "docs = docsearch.similarity_search(query, include_metadata=True)\n",
    "chain.run(input_documents=docs, question=query)"
   ]
  },
  {
   "cell_type": "code",
   "execution_count": 14,
   "id": "bc750541-6f70-4e20-a6f0-7879020ed04a",
   "metadata": {
    "tags": []
   },
   "outputs": [
    {
     "data": {
      "text/plain": [
       "' Gatsby is a wealthy man who is suspected of being a bootlegger and a relative of Von Hindenburg. He is also a friend of the late Dan Cody.'"
      ]
     },
     "execution_count": 14,
     "metadata": {},
     "output_type": "execute_result"
    }
   ],
   "source": [
    "query = \"Who is gatsby?\"\n",
    "docs = docsearch.similarity_search(query, include_metadata=True)\n",
    "chain.run(input_documents=docs, question=query)"
   ]
  },
  {
   "cell_type": "code",
   "execution_count": 17,
   "id": "ebc6af6c-6a88-47bf-af75-2eba06ac3801",
   "metadata": {
    "tags": []
   },
   "outputs": [
    {
     "data": {
      "text/plain": [
       "' Romeo and Juliet is a tragedy by William Shakespeare about two young lovers from feuding families, Romeo Montague and Juliet Capulet, who fall in love and secretly marry. Despite the obstacles in their way, they are determined to be together, but their love is ultimately doomed. The play ends with both Romeo and Juliet taking their own lives.'"
      ]
     },
     "execution_count": 17,
     "metadata": {},
     "output_type": "execute_result"
    }
   ],
   "source": [
    "query = \"Can you please summarize Romeo and Juliet?\"\n",
    "docs = docsearch.similarity_search(query, include_metadata=True)\n",
    "chain.run(input_documents=docs, question=query)"
   ]
  },
  {
   "cell_type": "code",
   "execution_count": 16,
   "id": "63a8c2a9-b504-4c9f-94a9-dc209de2ebe9",
   "metadata": {
    "tags": []
   },
   "outputs": [
    {
     "data": {
      "text/plain": [
       "\" No, I don't know enough about The Great Gatsby to summarize it.\""
      ]
     },
     "execution_count": 16,
     "metadata": {},
     "output_type": "execute_result"
    }
   ],
   "source": [
    "query = \"Can you please summarize The Great Gatsby?\"\n",
    "docs = docsearch.similarity_search(query, include_metadata=True)\n",
    "chain.run(input_documents=docs, question=query)"
   ]
  },
  {
   "cell_type": "code",
   "execution_count": null,
   "id": "6da2bc65-082b-432d-a470-2f361cca66df",
   "metadata": {},
   "outputs": [],
   "source": []
  }
 ],
 "metadata": {
  "kernelspec": {
   "display_name": "Python 3 (ipykernel)",
   "language": "python",
   "name": "python3"
  },
  "language_info": {
   "codemirror_mode": {
    "name": "ipython",
    "version": 3
   },
   "file_extension": ".py",
   "mimetype": "text/x-python",
   "name": "python",
   "nbconvert_exporter": "python",
   "pygments_lexer": "ipython3",
   "version": "3.9.16"
  }
 },
 "nbformat": 4,
 "nbformat_minor": 5
}
